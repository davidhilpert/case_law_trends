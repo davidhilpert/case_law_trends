{
 "cells": [
  {
   "cell_type": "markdown",
   "metadata": {},
   "source": [
    "# TODO\n",
    "\n",
    "- bring in exogenous factors: legislative production, \n",
    "-    mapping legal act directory codes - case law directory codes\n",
    "- bring in exogenous factors: lodgment in year, year-1, year-2,...\n",
    "- lodgment-judgment-gap; use lodgment-data rather than judgment-data? go for judgment date directly?\n",
    "- how to deal with ambiguities in dircodes?\n",
    "- verlängern der timeline? \n",
    "- trends auf zweiter dircode ebene\n",
    "\n",
    "X implement arima model\n",
    "X implement ols\n",
    "x missings that are actual 0s"
   ]
  },
  {
   "cell_type": "code",
   "execution_count": null,
   "metadata": {},
   "outputs": [],
   "source": [
    "import pyreadr\n",
    "import numpy as np \n",
    "import pandas as pd\n",
    "import re \n",
    "from itertools import chain # flatten lists\n",
    "\n",
    "from statsmodels.tsa.arima.model import ARIMA\n",
    "from statsmodels.tsa.statespace.sarimax import SARIMAX\n",
    "import statsmodels.api as sm\n",
    "from sklearn.linear_model import LinearRegression\n",
    "\n",
    "import seaborn as sns\n",
    "import matplotlib.pyplot as plt"
   ]
  },
  {
   "cell_type": "code",
   "execution_count": null,
   "metadata": {},
   "outputs": [],
   "source": [
    "tmp = pyreadr.read_r(\"/Users/david/Documents/david/karriere/projects/predict precedential value/data/data_for_ml_training.RData\") \n",
    "print(tmp.keys()) # let's check what objects we got\n",
    "df = tmp[\"art267_judgments_62_23\"] # extract the pandas data frame for object df1\n",
    "df.head()\n",
    "df = df.loc[df[\"directorycodes\"] != \"no info\",]\n",
    "print(df.isna().sum())\n",
    "print(df.columns)\n",
    "print(df.shape)"
   ]
  },
  {
   "cell_type": "code",
   "execution_count": null,
   "metadata": {},
   "outputs": [],
   "source": [
    "df[\"directorycodes_lower\"] = df[\"directorycodes\"].str.lower()\n",
    "df['substring_column'] = df['directorycodes_lower'].str.slice(0, 4)\n",
    "df['DoCL_after_Lisbon'] = df['substring_column'].str.contains(r'\\d\\.\\d{2}', regex=True).astype(int)\n",
    "df['DoCL_after_Lisbon'].value_counts()\n",
    "\n",
    "\n",
    "df = df.loc[df['DoCL_after_Lisbon'] == 1,]"
   ]
  },
  {
   "cell_type": "code",
   "execution_count": null,
   "metadata": {},
   "outputs": [],
   "source": [
    "list_dircodes_aL = df.loc[df['DoCL_after_Lisbon'] == 1, 'directorycodes_lower'].str.split(\"@\")\n",
    "\n",
    "#pattern_to_match = re.compile(r\"[a-z]-\\d\\d|\\d\\.\\d\\d\") # window size=4\n",
    "pattern_to_match = re.compile(r\"[a-z]-|\\d\\.\") # window size=2\n",
    "\n",
    "window_size = 2\n",
    "\n",
    "#dir_cod_list_clean = [[item for item in sublist if pattern_to_match.match(item)] for sublist in list_directorycodes]\n",
    "list_dircodes_aL_num = [\n",
    "    list(sorted(set([item[0:window_size] for item in sublist if pattern_to_match.match(item[0:window_size])])))\n",
    "    for sublist in list_dircodes_aL\n",
    "]\n",
    "\n",
    "#dir_cod_list_clean = [item for item in sublist for sublist in list_directorycodes]\n",
    "\n",
    "flattened_list = list(chain(*list_dircodes_aL_num))\n",
    "#print(len(flattened_list))\n",
    "print(len(sorted(set(flattened_list))))\n",
    "# 1311 -> 152\n",
    "#print(sorted(set(flattened_list)))\n",
    "\n",
    "pattern = re.compile(\"[a-z]-\\d{2}\")\n",
    "filtered_list = [s for s in flattened_list if pattern.match(s)]\n",
    "print(len(set(filtered_list)))\n",
    "# 675 -> 97\n",
    "\n",
    "pattern = re.compile(\"\\d.\\d{2}\")\n",
    "filtered_list = [s for s in flattened_list if pattern.match(s[0:window_size])]\n",
    "print(len(set(filtered_list)))\n",
    "# 636 -> 55"
   ]
  },
  {
   "cell_type": "code",
   "execution_count": null,
   "metadata": {},
   "outputs": [],
   "source": [
    "df.loc[df[\"celex\"] == \"62014CJ0049\", 'date_lodgment'] = '02/03/2014'\n",
    "df[\"year_lodgment\"] = df[\"date_lodgment\"].str.slice(6,10).astype(int)\n",
    "df[\"year_lodgment\"].value_counts()\n",
    "\n",
    "df[\"year_judgment\"] = df[\"year_judgment\"].astype(int)\n",
    "df[\"year_judgment\"].value_counts()\n",
    "\n"
   ]
  },
  {
   "cell_type": "code",
   "execution_count": null,
   "metadata": {},
   "outputs": [],
   "source": [
    "\n",
    "new_df = pd.concat([pd.Series(sublist, name=\"value\").astype(float) for sublist in list_dircodes_aL_num], keys=df[\"year_judgment\"]).reset_index(level=0)\n",
    "print(df.shape)\n",
    "print(new_df.shape)\n"
   ]
  },
  {
   "cell_type": "code",
   "execution_count": null,
   "metadata": {},
   "outputs": [],
   "source": [
    "trend_df = new_df.groupby(['year_judgment', 'value']).size().reset_index(name='count')\n",
    "\n",
    "missing_data = {\n",
    "    'year_judgment': [2010,2014,2015,2023,2013,2014,2019,2020,2021,2022,2010,2014,2016,2018,2019,2020],\n",
    "    'value':         [ 7.0, 7.0, 7.0, 7.0, 8.0, 8.0, 8.0, 8.0, 8.0, 8.0, 9.0, 9.0, 9.0, 9.0, 9.0, 9.0],\n",
    "    'count':         [ 0,   0,   0,   0,   0,   0,   0,   0,   0,   0,   0,   0,   0,   0,   0,   0]\n",
    "    }\n",
    "\n",
    "trend_df = pd.concat([trend_df, pd.DataFrame(missing_data)])\n",
    "\n",
    "trend_df_sort = trend_df.sort_values(by=['value', 'year_judgment'])\n",
    "trend_df_sort\n",
    "trend_df_sort[\"value\"] = trend_df_sort[\"value\"].astype(str)\n",
    "trend_df_sort.reset_index(drop=True, inplace=True)\n",
    "print(trend_df_sort.shape)\n",
    "trend_df_sort\n",
    "#trend_df_sort[\"value\"].value_counts()\n"
   ]
  },
  {
   "cell_type": "code",
   "execution_count": null,
   "metadata": {},
   "outputs": [],
   "source": [
    "\n",
    "\n",
    "\n",
    "trend_df_sort_ols = trend_df_sort\n",
    "trend_df_sort_ols['count_l1'] = trend_df_sort_ols.groupby(['value'])['count'].shift()\n",
    "trend_df_sort_ols['count_l2'] = trend_df_sort_ols.groupby(['value'])['count_l1'].shift()\n",
    "trend_df_sort_ols['count_l3'] = trend_df_sort_ols.groupby(['value'])['count_l2'].shift()\n",
    "trend_df_sort_ols['count_l4'] = trend_df_sort_ols.groupby(['value'])['count_l3'].shift()\n",
    "trend_df_sort_ols['count_l5'] = trend_df_sort_ols.groupby(['value'])['count_l4'].shift()\n",
    "\n",
    "pd.set_option('display.max_rows', None)\n",
    "#pd.set_option('display.max_columns', None)\n",
    "trend_df_sort_ols\n"
   ]
  },
  {
   "cell_type": "code",
   "execution_count": null,
   "metadata": {},
   "outputs": [],
   "source": [
    "sns.set(style=\"whitegrid\")\n",
    "plt.figure(figsize=(10, 6))\n",
    "\n",
    "# Plot trend lines\n",
    "sns.lineplot(x='year_judgment', y='count', hue='value', data=trend_df_sort, marker='o')\n",
    "\n",
    "plt.title('Number of Preliminary Reference Judgments by Year and Directory Code')\n",
    "plt.xticks(trend_df_sort['year_judgment'].unique(), rotation=45)\n",
    "plt.xlabel('Year')\n",
    "plt.ylabel('Number of Judgments')\n",
    "plt.legend(title='Directory Code')\n",
    "plt.show()"
   ]
  },
  {
   "cell_type": "code",
   "execution_count": null,
   "metadata": {},
   "outputs": [],
   "source": [
    "# Exogenous variable - assuming 'group' is a categorical variable encoded as integers\n",
    "exog_data = pd.get_dummies(trend_df_sort['value'], prefix='dircode', drop_first=True)\n",
    "exog_data.index = trend_df_sort['year_judgment']\n",
    "exog_data.index\n",
    "time_series = trend_df_sort.set_index(['year_judgment','value'])['count'].astype(float)#\n",
    "time_series\n",
    "exog_data = exog_data.astype(int)"
   ]
  },
  {
   "cell_type": "code",
   "execution_count": null,
   "metadata": {},
   "outputs": [],
   "source": [
    "# limit timeframe\n",
    "time_series_masked = time_series[time_series.index.get_level_values(0) < 2021]\n",
    "time_series_masked\n",
    "time_series_masked.index"
   ]
  },
  {
   "cell_type": "code",
   "execution_count": null,
   "metadata": {},
   "outputs": [],
   "source": [
    "# Set ARIMA order\n",
    "p = 5  # Autoregressive order\n",
    "d = 0  # Integration order\n",
    "q = 0  # Moving average order\n",
    "\n",
    "time_series_masked_flat = time_series_masked.reset_index(level='value', drop=True)\n",
    "\n",
    "# Fit SARIMAX model with exogenous variable\n",
    "model = ARIMA(endog=time_series_masked_flat#, exog=exog_data\n",
    "              , order=(p, d, q))\n",
    "#model = SARIMAX(endog=time_series, exog=exog_data, order=(p, d, q))\n",
    "results = model.fit()\n",
    "\n",
    "\n",
    "print(results.summary())"
   ]
  },
  {
   "cell_type": "code",
   "execution_count": null,
   "metadata": {},
   "outputs": [],
   "source": [
    "print(results.summary())"
   ]
  },
  {
   "cell_type": "code",
   "execution_count": null,
   "metadata": {},
   "outputs": [],
   "source": [
    "forecast_steps = 10  # Number of steps to predict\n",
    "forecast = results.get_forecast(steps=forecast_steps)\n",
    "\n",
    "forecast.predicted_mean\n",
    "# Extract predicted values\n",
    "#predicted_values = forecast.predicted_mean\n",
    "#predicted_values = pd.DataFrame({'predicted': forecast.predicted_mean}, index=time_series_masked.index[-3:])\n",
    "#predicted_values"
   ]
  },
  {
   "cell_type": "code",
   "execution_count": null,
   "metadata": {},
   "outputs": [],
   "source": [
    "trend_df_sort_ols"
   ]
  },
  {
   "cell_type": "code",
   "execution_count": null,
   "metadata": {},
   "outputs": [],
   "source": [
    "#OLS \n",
    "trend_df_sort_ols_train = trend_df_sort_ols.loc[#(trend_df_sort_ols[\"year_judgment\"] >= 2013) & \n",
    "    (trend_df_sort_ols[\"year_judgment\"] <= 2020)]\n",
    "trend_df_sort_ols_train.dropna(inplace=True)\n",
    "trend_df_sort_ols_train\n",
    "\n",
    "#model = sm.OLS(trend_df_sort_ols_train['count'], sm.add_constant(trend_df_sort_ols_train[['year_judgment', 'value']])).fit()\n",
    "#model.summary()\n",
    "\n",
    "\n"
   ]
  }
 ],
 "metadata": {
  "kernelspec": {
   "display_name": "Python 3",
   "language": "python",
   "name": "python3"
  },
  "language_info": {
   "codemirror_mode": {
    "name": "ipython",
    "version": 3
   },
   "file_extension": ".py",
   "mimetype": "text/x-python",
   "name": "python",
   "nbconvert_exporter": "python",
   "pygments_lexer": "ipython3",
   "version": "3.11.1"
  }
 },
 "nbformat": 4,
 "nbformat_minor": 2
}
